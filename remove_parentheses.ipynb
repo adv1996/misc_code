{
 "cells": [
  {
   "cell_type": "code",
   "execution_count": 210,
   "metadata": {},
   "outputs": [
    {
     "data": {
      "text/plain": [
       "1.4"
      ]
     },
     "execution_count": 210,
     "metadata": {},
     "output_type": "execute_result"
    }
   ],
   "source": [
    "#Parentheses removal function. Given a string containing an expression, return the expression with unnecessary parentheses removed.\n",
    "#For example:\n",
    "\n",
    "# \"1*(2+(3*(4+5)))\" ===> \"1*(2+3*(4+5))\"\n",
    "\n",
    "# f(\"2 + (3 / -5)\") ===> \"2 + 3 / -5\"\n",
    "\n",
    "# f(\"x+(y+z)+(t+(v+w))\") ===> \"x+y+z+t+v+w\"\n",
    "\n",
    "\n",
    "s = \"1*(2+(3*(4+5)))\"\n",
    "s = \"2 + (3 / -5)\"\n",
    "\n",
    "eval(s)"
   ]
  },
  {
   "cell_type": "code",
   "execution_count": 211,
   "metadata": {},
   "outputs": [
    {
     "name": "stdout",
     "output_type": "stream",
     "text": [
      "2 + (3 / -5)\n"
     ]
    }
   ],
   "source": [
    "print(s)\n",
    "mapper = {}\n",
    "for i,thing in enumerate(s):\n",
    "    if thing == '(':\n",
    "        mapper[i] = thing\n",
    "    if thing == ')':\n",
    "        mapper[i] = thing\n"
   ]
  },
  {
   "cell_type": "code",
   "execution_count": 212,
   "metadata": {},
   "outputs": [
    {
     "name": "stdout",
     "output_type": "stream",
     "text": [
      "1 pairs\n",
      "dict_keys([4, 11])\n"
     ]
    }
   ],
   "source": [
    "# get the number of pairs and start from the inside\n",
    "pairs = len(mapper)//2\n",
    "print(pairs, \"pairs\")\n",
    "print(mapper.keys())"
   ]
  },
  {
   "cell_type": "code",
   "execution_count": 213,
   "metadata": {},
   "outputs": [
    {
     "name": "stdout",
     "output_type": "stream",
     "text": [
      "inside pair\n"
     ]
    },
    {
     "data": {
      "text/plain": [
       "[4, 11]"
      ]
     },
     "execution_count": 213,
     "metadata": {},
     "output_type": "execute_result"
    }
   ],
   "source": [
    "print(\"inside pair\")\n",
    "pops = list(mapper.keys())[pairs-1:pairs+1]\n",
    "pops"
   ]
  },
  {
   "cell_type": "code",
   "execution_count": 215,
   "metadata": {},
   "outputs": [
    {
     "name": "stdout",
     "output_type": "stream",
     "text": [
      "2 + (3 / -5)\n",
      "( 5\n",
      "2 + 3 / -5 = 1.4\n",
      "2 + 3 / -5\n",
      "\n",
      "\n"
     ]
    }
   ],
   "source": [
    "formula = list(s)\n",
    "\n",
    "\n",
    "for i in range(pairs):\n",
    "    print(\"\".join(formula))\n",
    "    test = list(formula)\n",
    "    \n",
    "    left = list(mapper.keys())[pairs-i-1] \n",
    "    right = list(mapper.keys())[pairs+i] -i -1\n",
    "    print(formula[left], formula[right])\n",
    "    \n",
    "    test.pop(left)\n",
    "    test.pop(right) \n",
    "    \n",
    "    answer = eval(\"\".join(test))\n",
    "    print(\"\".join(test), \"=\", answer)\n",
    "    \n",
    "    if eval(\"\".join(test)) == eval(\"\".join(formula)):\n",
    "        formula.pop(left)\n",
    "        formula.pop(right)\n",
    "        print(\"\".join(formula))\n",
    "    \n",
    "    \n",
    "    print(\"\\n\")\n",
    "\n"
   ]
  },
  {
   "cell_type": "code",
   "execution_count": null,
   "metadata": {},
   "outputs": [],
   "source": []
  }
 ],
 "metadata": {
  "kernelspec": {
   "display_name": "Python [conda env:anaconda3]",
   "language": "python",
   "name": "conda-env-anaconda3-py"
  },
  "language_info": {
   "codemirror_mode": {
    "name": "ipython",
    "version": 3
   },
   "file_extension": ".py",
   "mimetype": "text/x-python",
   "name": "python",
   "nbconvert_exporter": "python",
   "pygments_lexer": "ipython3",
   "version": "3.6.7"
  }
 },
 "nbformat": 4,
 "nbformat_minor": 2
}
